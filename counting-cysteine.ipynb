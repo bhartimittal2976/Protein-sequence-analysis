{
 "cells": [
  {
   "cell_type": "code",
   "execution_count": 1,
   "id": "e261583a-74ad-4003-b0d0-00ceae485b08",
   "metadata": {},
   "outputs": [
    {
     "name": "stdout",
     "output_type": "stream",
     "text": [
      "Number of cysteine residues in the sequence: 3\n"
     ]
    }
   ],
   "source": [
    "from Bio import SeqIO\n",
    "\n",
    "# Example protein sequence\n",
    "sequence = \"ARNDCEQGHILKMFPSTWYVCC\"\n",
    "\n",
    "# Count cysteine residues\n",
    "cysteine_count = sequence.count('C')\n",
    "print(f\"Number of cysteine residues in the sequence: {cysteine_count}\")\n"
   ]
  },
  {
   "cell_type": "code",
   "execution_count": 2,
   "id": "3431fcda-a03a-4db8-bcb8-e5ce33af5852",
   "metadata": {},
   "outputs": [
    {
     "name": "stdout",
     "output_type": "stream",
     "text": [
      "Number of amphipathic amino acids in the sequence: 7\n"
     ]
    }
   ],
   "source": [
    "# Define amphipathic amino acids\n",
    "amphipathic_amino_acids = {'K', 'R', 'H', 'W', 'Y', 'M', 'T'}\n",
    "\n",
    "# Example protein sequence\n",
    "sequence = \"ARNDCEQGHILKMFPSTWYV\"\n",
    "\n",
    "# Count amphipathic amino acids\n",
    "amphipathic_count = sum(1 for aa in sequence if aa in amphipathic_amino_acids)\n",
    "print(f\"Number of amphipathic amino acids in the sequence: {amphipathic_count}\")\n"
   ]
  },
  {
   "cell_type": "code",
   "execution_count": 3,
   "id": "dd024926-0dae-4b33-883b-9566b078fc2e",
   "metadata": {},
   "outputs": [
    {
     "name": "stdout",
     "output_type": "stream",
     "text": [
      "ARNDCEQGH-ILKMFPSTWYV-\n",
      "||||||||| ||||||||||  \n",
      "ARNDCEQGHHILKMFPSTWY-T\n",
      "  Score=19\n",
      "\n"
     ]
    },
    {
     "name": "stderr",
     "output_type": "stream",
     "text": [
      "C:\\Users\\mittalb\\AppData\\Roaming\\Python\\Python311\\site-packages\\Bio\\pairwise2.py:278: BiopythonDeprecationWarning: Bio.pairwise2 has been deprecated, and we intend to remove it in a future release of Biopython. As an alternative, please consider using Bio.Align.PairwiseAligner as a replacement, and contact the Biopython developers if you still need the Bio.pairwise2 module.\n",
      "  warnings.warn(\n"
     ]
    }
   ],
   "source": [
    "from Bio import pairwise2\n",
    "from Bio.Seq import Seq\n",
    "\n",
    "# Example protein sequences\n",
    "seq1 = Seq(\"ARNDCEQGHILKMFPSTWYV\")\n",
    "seq2 = Seq(\"ARNDCEQGHHILKMFPSTWYT\")\n",
    "\n",
    "# Align sequences\n",
    "alignments = pairwise2.align.globalxx(seq1, seq2)\n",
    "\n",
    "# Get the best alignment\n",
    "best_alignment = alignments[0]\n",
    "print(pairwise2.format_alignment(*best_alignment))\n"
   ]
  },
  {
   "cell_type": "code",
   "execution_count": 4,
   "id": "9f28b3d6-3583-40a4-88c3-00572d7d898f",
   "metadata": {},
   "outputs": [
    {
     "name": "stdout",
     "output_type": "stream",
     "text": [
      "target            0 ARNDCEQGH-ILKMFPSTWYV- 20\n",
      "                  0 |||||||||-||||||||||-- 22\n",
      "query             0 ARNDCEQGHHILKMFPSTWY-T 21\n",
      "\n"
     ]
    }
   ],
   "source": [
    "from Bio import Align\n",
    "from Bio.Seq import Seq\n",
    "\n",
    "# Example protein sequences\n",
    "seq1 = Seq(\"ARNDCEQGHILKMFPSTWYV\")\n",
    "seq2 = Seq(\"ARNDCEQGHHILKMFPSTWYT\")\n",
    "\n",
    "# Create an aligner object\n",
    "aligner = Align.PairwiseAligner()\n",
    "\n",
    "# Perform global alignment\n",
    "alignments = aligner.align(seq1, seq2)\n",
    "\n",
    "# Get the best alignment\n",
    "best_alignment = alignments[0]\n",
    "print(best_alignment)\n"
   ]
  },
  {
   "cell_type": "code",
   "execution_count": 5,
   "id": "777222ad-d665-4d96-b366-12bfb9ee82ec",
   "metadata": {},
   "outputs": [
    {
     "name": "stdout",
     "output_type": "stream",
     "text": [
      "Length of the amino acid sequence: 20\n"
     ]
    }
   ],
   "source": [
    "from Bio.Seq import Seq\n",
    "\n",
    "# Example amino acid sequence\n",
    "sequence = Seq(\"ARNDCEQGHILKMFPSTWYV\")\n",
    "\n",
    "# Calculate the length of the sequence\n",
    "sequence_length = len(sequence)\n",
    "print(f\"Length of the amino acid sequence: {sequence_length}\")\n"
   ]
  },
  {
   "cell_type": "code",
   "execution_count": null,
   "id": "3201fb00-fa8d-45c8-ac5d-9ad11c29b7d2",
   "metadata": {},
   "outputs": [],
   "source": []
  }
 ],
 "metadata": {
  "kernelspec": {
   "display_name": "Python 3 (ipykernel)",
   "language": "python",
   "name": "python3"
  },
  "language_info": {
   "codemirror_mode": {
    "name": "ipython",
    "version": 3
   },
   "file_extension": ".py",
   "mimetype": "text/x-python",
   "name": "python",
   "nbconvert_exporter": "python",
   "pygments_lexer": "ipython3",
   "version": "3.11.7"
  }
 },
 "nbformat": 4,
 "nbformat_minor": 5
}
