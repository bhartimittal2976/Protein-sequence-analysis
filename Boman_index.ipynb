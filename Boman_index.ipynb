{
 "cells": [
  {
   "cell_type": "code",
   "execution_count": 1,
   "id": "905b3196-d9f4-4fa5-b5aa-3ab62d1ccbed",
   "metadata": {},
   "outputs": [
    {
     "name": "stdout",
     "output_type": "stream",
     "text": [
      "Defaulting to user installation because normal site-packages is not writeable\n",
      "Collecting biopython\n",
      "  Downloading biopython-1.83-cp311-cp311-win_amd64.whl.metadata (13 kB)\n",
      "Requirement already satisfied: numpy in c:\\programdata\\anaconda3\\lib\\site-packages (from biopython) (1.26.4)\n",
      "Downloading biopython-1.83-cp311-cp311-win_amd64.whl (2.7 MB)\n",
      "   ---------------------------------------- 0.0/2.7 MB ? eta -:--:--\n",
      "   ---------------------------------------- 0.0/2.7 MB ? eta -:--:--\n",
      "    --------------------------------------- 0.0/2.7 MB 667.8 kB/s eta 0:00:05\n",
      "   -------- ------------------------------- 0.6/2.7 MB 5.9 MB/s eta 0:00:01\n",
      "   --------------- ------------------------ 1.0/2.7 MB 9.5 MB/s eta 0:00:01\n",
      "   -------------------- ------------------- 1.4/2.7 MB 7.3 MB/s eta 0:00:01\n",
      "   ---------------------------------------- 2.7/2.7 MB 11.6 MB/s eta 0:00:00\n",
      "Installing collected packages: biopython\n",
      "Successfully installed biopython-1.83\n"
     ]
    }
   ],
   "source": [
    "!pip install biopython"
   ]
  },
  {
   "cell_type": "code",
   "execution_count": 2,
   "id": "4c790d39-78ea-4668-83b2-bd18a109937f",
   "metadata": {},
   "outputs": [
    {
     "name": "stdout",
     "output_type": "stream",
     "text": [
      "Boman Index for sequence ARNDCEQGHILKMFPSTWYV: -0.11\n"
     ]
    }
   ],
   "source": [
    "from Bio import SeqIO\n",
    "\n",
    "# Example solubility values for amino acids\n",
    "solubility_values = {\n",
    "    'A': 0.17, 'R': -0.81, 'N': -0.42, 'D': -0.42, 'C': 0.24,\n",
    "    'Q': -0.58, 'E': -0.58, 'G': 0.01, 'H': -0.40, 'I': 0.31,\n",
    "    'L': 0.21, 'K': -0.99, 'M': 0.23, 'F': 0.21, 'P': 0.45,\n",
    "    'S': -0.13, 'T': -0.14, 'W': 0.37, 'Y': 0.02, 'V': 0.07\n",
    "}\n",
    "\n",
    "def calculate_boman_index(sequence):\n",
    "    total_solubility = sum(solubility_values[aa] for aa in sequence if aa in solubility_values)\n",
    "    boman_index = total_solubility / len(sequence)\n",
    "    return boman_index\n",
    "\n",
    "# Example sequence (you can load your sequences using SeqIO if they're in a file)\n",
    "sequence = \"ARNDCEQGHILKMFPSTWYV\"\n",
    "\n",
    "# Calculate Boman Index\n",
    "boman_index = calculate_boman_index(sequence)\n",
    "print(f\"Boman Index for sequence {sequence}: {boman_index:.2f}\")\n"
   ]
  },
  {
   "cell_type": "code",
   "execution_count": null,
   "id": "d016083d-03cf-41c6-9b51-5f13c0185ded",
   "metadata": {},
   "outputs": [],
   "source": []
  }
 ],
 "metadata": {
  "kernelspec": {
   "display_name": "Python 3 (ipykernel)",
   "language": "python",
   "name": "python3"
  },
  "language_info": {
   "codemirror_mode": {
    "name": "ipython",
    "version": 3
   },
   "file_extension": ".py",
   "mimetype": "text/x-python",
   "name": "python",
   "nbconvert_exporter": "python",
   "pygments_lexer": "ipython3",
   "version": "3.11.7"
  }
 },
 "nbformat": 4,
 "nbformat_minor": 5
}
