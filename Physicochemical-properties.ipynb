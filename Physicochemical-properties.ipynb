{
 "cells": [
  {
   "cell_type": "code",
   "execution_count": 1,
   "id": "8fea3d03-f87c-44a1-8574-4a15b9d79107",
   "metadata": {},
   "outputs": [
    {
     "name": "stdout",
     "output_type": "stream",
     "text": [
      "Molecular Weight: 2395.71 Da\n",
      "Aromaticity: 0.15\n",
      "Instability Index: 80.70\n",
      "Isoelectric Point (pI): 6.78\n",
      "Amino Acid Composition (%):\n",
      "  A: 5.00%\n",
      "  C: 5.00%\n",
      "  D: 5.00%\n",
      "  E: 5.00%\n",
      "  F: 5.00%\n",
      "  G: 5.00%\n",
      "  H: 5.00%\n",
      "  I: 5.00%\n",
      "  K: 5.00%\n",
      "  L: 5.00%\n",
      "  M: 5.00%\n",
      "  N: 5.00%\n",
      "  P: 5.00%\n",
      "  Q: 5.00%\n",
      "  R: 5.00%\n",
      "  S: 5.00%\n",
      "  T: 5.00%\n",
      "  V: 5.00%\n",
      "  W: 5.00%\n",
      "  Y: 5.00%\n",
      "Secondary Structure Fraction (Helix, Turn, Sheet): (0.25, 0.25, 0.35)\n",
      "GRAVY: -0.49\n"
     ]
    }
   ],
   "source": [
    "from Bio.SeqUtils.ProtParam import ProteinAnalysis\n",
    "\n",
    "# Example protein sequence\n",
    "sequence = \"ARNDCEQGHILKMFPSTWYV\"\n",
    "\n",
    "# Create a ProteinAnalysis object\n",
    "analyzed_seq = ProteinAnalysis(sequence)\n",
    "\n",
    "# Molecular Weight\n",
    "molecular_weight = analyzed_seq.molecular_weight()\n",
    "print(f\"Molecular Weight: {molecular_weight:.2f} Da\")\n",
    "\n",
    "# Aromaticity\n",
    "aromaticity = analyzed_seq.aromaticity()\n",
    "print(f\"Aromaticity: {aromaticity:.2f}\")\n",
    "\n",
    "# Instability Index\n",
    "instability_index = analyzed_seq.instability_index()\n",
    "print(f\"Instability Index: {instability_index:.2f}\")\n",
    "\n",
    "# Isoelectric Point (pI)\n",
    "isoelectric_point = analyzed_seq.isoelectric_point()\n",
    "print(f\"Isoelectric Point (pI): {isoelectric_point:.2f}\")\n",
    "\n",
    "# Amino Acid Composition\n",
    "amino_acid_composition = analyzed_seq.get_amino_acids_percent()\n",
    "print(\"Amino Acid Composition (%):\")\n",
    "for aa, perc in amino_acid_composition.items():\n",
    "    print(f\"  {aa}: {perc:.2%}\")\n",
    "\n",
    "# Secondary Structure Fraction\n",
    "# (Fraction of helix, turn, and sheet)\n",
    "sec_struct_fraction = analyzed_seq.secondary_structure_fraction()\n",
    "print(f\"Secondary Structure Fraction (Helix, Turn, Sheet): {sec_struct_fraction}\")\n",
    "\n",
    "# GRAVY (Grand Average of Hydropathicity)\n",
    "gravy = analyzed_seq.gravy()\n",
    "print(f\"GRAVY: {gravy:.2f}\")\n"
   ]
  },
  {
   "cell_type": "code",
   "execution_count": null,
   "id": "1bf57013-a211-4e9e-82df-8801bd293556",
   "metadata": {},
   "outputs": [],
   "source": []
  }
 ],
 "metadata": {
  "kernelspec": {
   "display_name": "Python 3 (ipykernel)",
   "language": "python",
   "name": "python3"
  },
  "language_info": {
   "codemirror_mode": {
    "name": "ipython",
    "version": 3
   },
   "file_extension": ".py",
   "mimetype": "text/x-python",
   "name": "python",
   "nbconvert_exporter": "python",
   "pygments_lexer": "ipython3",
   "version": "3.11.7"
  }
 },
 "nbformat": 4,
 "nbformat_minor": 5
}
