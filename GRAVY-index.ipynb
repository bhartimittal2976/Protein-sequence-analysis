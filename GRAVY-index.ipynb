{
 "cells": [
  {
   "cell_type": "code",
   "execution_count": 1,
   "id": "e8ab4ae4-0887-4934-82db-6cbd99c3dfc4",
   "metadata": {},
   "outputs": [
    {
     "name": "stdout",
     "output_type": "stream",
     "text": [
      "GRAVY Index for sequence ARNDCEQGHILKMFPSTWYV: -0.49\n"
     ]
    }
   ],
   "source": [
    "from Bio import SeqIO\n",
    "\n",
    "# Kyte & Doolittle hydropathy values for amino acids\n",
    "hydropathy_values = {\n",
    "    'A': 1.8, 'R': -4.5, 'N': -3.5, 'D': -3.5, 'C': 2.5,\n",
    "    'Q': -3.5, 'E': -3.5, 'G': -0.4, 'H': -3.2, 'I': 4.5,\n",
    "    'L': 3.8, 'K': -3.9, 'M': 1.9, 'F': 2.8, 'P': -1.6,\n",
    "    'S': -0.8, 'T': -0.7, 'W': -0.9, 'Y': -1.3, 'V': 4.2\n",
    "}\n",
    "\n",
    "def calculate_gravy_index(sequence):\n",
    "    total_hydropathy = sum(hydropathy_values[aa] for aa in sequence if aa in hydropathy_values)\n",
    "    gravy_index = total_hydropathy / len(sequence)\n",
    "    return gravy_index\n",
    "\n",
    "# Example sequence (you can load your sequences using SeqIO if they're in a file)\n",
    "sequence = \"ARNDCEQGHILKMFPSTWYV\"\n",
    "\n",
    "# Calculate GRAVY Index\n",
    "gravy_index = calculate_gravy_index(sequence)\n",
    "print(f\"GRAVY Index for sequence {sequence}: {gravy_index:.2f}\")\n"
   ]
  },
  {
   "cell_type": "code",
   "execution_count": null,
   "id": "a3b766f6-08c9-4dd5-95be-ce40edd33672",
   "metadata": {},
   "outputs": [],
   "source": []
  }
 ],
 "metadata": {
  "kernelspec": {
   "display_name": "Python 3 (ipykernel)",
   "language": "python",
   "name": "python3"
  },
  "language_info": {
   "codemirror_mode": {
    "name": "ipython",
    "version": 3
   },
   "file_extension": ".py",
   "mimetype": "text/x-python",
   "name": "python",
   "nbconvert_exporter": "python",
   "pygments_lexer": "ipython3",
   "version": "3.11.7"
  }
 },
 "nbformat": 4,
 "nbformat_minor": 5
}
